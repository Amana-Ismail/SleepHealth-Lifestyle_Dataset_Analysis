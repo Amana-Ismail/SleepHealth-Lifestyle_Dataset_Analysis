{
  "nbformat": 4,
  "nbformat_minor": 0,
  "metadata": {
    "colab": {
      "provenance": []
    },
    "kernelspec": {
      "name": "python3",
      "display_name": "Python 3"
    },
    "language_info": {
      "name": "python"
    }
  },
  "cells": [
    {
      "cell_type": "code",
      "source": [
        "import pandas as pd"
      ],
      "metadata": {
        "id": "bP01VgJPaHy5"
      },
      "execution_count": 1,
      "outputs": []
    },
    {
      "cell_type": "code",
      "source": [
        "df = pd.read_csv(\"/content/Sleep_health_and_lifestyle_dataset.csv\")"
      ],
      "metadata": {
        "id": "1k5EOJOWaeHQ"
      },
      "execution_count": 2,
      "outputs": []
    },
    {
      "cell_type": "code",
      "source": [
        "df.drop(columns=[\"Person ID\"], inplace=True)"
      ],
      "metadata": {
        "id": "s-R476VubZTZ"
      },
      "execution_count": 3,
      "outputs": []
    },
    {
      "cell_type": "code",
      "source": [
        "bp = df[\"Blood Pressure\"].str.split(\"/\", expand=True)\n",
        "df[\"Systolic_BP\"] = pd.to_numeric(bp[0])\n",
        "df[\"Diastolic_BP\"] = pd.to_numeric(bp[1])\n",
        "df.drop(columns=[\"Blood Pressure\"], inplace=True)"
      ],
      "metadata": {
        "id": "-FNmYU33bvi6"
      },
      "execution_count": 4,
      "outputs": []
    },
    {
      "cell_type": "code",
      "source": [
        "df.drop_duplicates(inplace=True)"
      ],
      "metadata": {
        "id": "TpKlwCSBcEdm"
      },
      "execution_count": 5,
      "outputs": []
    },
    {
      "cell_type": "code",
      "source": [
        "df[\"Gender\"] = df[\"Gender\"].map({\"Male\": 1, \"Female\": 0})"
      ],
      "metadata": {
        "id": "3aS0CWd6cI7c"
      },
      "execution_count": 6,
      "outputs": []
    },
    {
      "cell_type": "code",
      "source": [
        "df = pd.get_dummies(df, columns=[\"Occupation\"], drop_first=True)"
      ],
      "metadata": {
        "id": "PJiaCvA7cPHH"
      },
      "execution_count": 7,
      "outputs": []
    },
    {
      "cell_type": "code",
      "source": [
        "df = pd.get_dummies(df, columns=[\"BMI Category\", \"Sleep Disorder\"], drop_first=True)"
      ],
      "metadata": {
        "id": "dcNWWLCbcXpY"
      },
      "execution_count": 8,
      "outputs": []
    },
    {
      "cell_type": "code",
      "source": [
        "df[\"Age_Group\"] = pd.cut(df[\"Age\"], bins=[0, 18, 30, 45, 60, 100],labels=[\"Teen\", \"Young Adult\", \"Adult\", \"Middle Age\", \"Senior\"])\n",
        "df[\"BP_Category\"] = pd.cut(df[\"Systolic_BP\"],bins=[0, 120, 140, 160, 200],labels=[\"Normal\", \"Elevated\", \"Stage 1\", \"Stage 2\"])"
      ],
      "metadata": {
        "id": "BJTi4hzHpyRT"
      },
      "execution_count": 9,
      "outputs": []
    },
    {
      "cell_type": "code",
      "source": [
        "print(df.info())\n",
        "print(df.head())"
      ],
      "metadata": {
        "colab": {
          "base_uri": "https://localhost:8080/"
        },
        "id": "Zwvnu7iwcaUB",
        "outputId": "f2719b2a-5e64-4d55-dcc8-5dfbfa8c6fd3"
      },
      "execution_count": 10,
      "outputs": [
        {
          "output_type": "stream",
          "name": "stdout",
          "text": [
            "<class 'pandas.core.frame.DataFrame'>\n",
            "Index: 132 entries, 0 to 366\n",
            "Data columns (total 26 columns):\n",
            " #   Column                           Non-Null Count  Dtype   \n",
            "---  ------                           --------------  -----   \n",
            " 0   Gender                           132 non-null    int64   \n",
            " 1   Age                              132 non-null    int64   \n",
            " 2   Sleep Duration                   132 non-null    float64 \n",
            " 3   Quality of Sleep                 132 non-null    int64   \n",
            " 4   Physical Activity Level          132 non-null    int64   \n",
            " 5   Stress Level                     132 non-null    int64   \n",
            " 6   Heart Rate                       132 non-null    int64   \n",
            " 7   Daily Steps                      132 non-null    int64   \n",
            " 8   Systolic_BP                      132 non-null    int64   \n",
            " 9   Diastolic_BP                     132 non-null    int64   \n",
            " 10  Occupation_Doctor                132 non-null    bool    \n",
            " 11  Occupation_Engineer              132 non-null    bool    \n",
            " 12  Occupation_Lawyer                132 non-null    bool    \n",
            " 13  Occupation_Manager               132 non-null    bool    \n",
            " 14  Occupation_Nurse                 132 non-null    bool    \n",
            " 15  Occupation_Sales Representative  132 non-null    bool    \n",
            " 16  Occupation_Salesperson           132 non-null    bool    \n",
            " 17  Occupation_Scientist             132 non-null    bool    \n",
            " 18  Occupation_Software Engineer     132 non-null    bool    \n",
            " 19  Occupation_Teacher               132 non-null    bool    \n",
            " 20  BMI Category_Normal Weight       132 non-null    bool    \n",
            " 21  BMI Category_Obese               132 non-null    bool    \n",
            " 22  BMI Category_Overweight          132 non-null    bool    \n",
            " 23  Sleep Disorder_Sleep Apnea       132 non-null    bool    \n",
            " 24  Age_Group                        132 non-null    category\n",
            " 25  BP_Category                      132 non-null    category\n",
            "dtypes: bool(14), category(2), float64(1), int64(9)\n",
            "memory usage: 13.8 KB\n",
            "None\n",
            "   Gender  Age  Sleep Duration  Quality of Sleep  Physical Activity Level  \\\n",
            "0       1   27             6.1                 6                       42   \n",
            "1       1   28             6.2                 6                       60   \n",
            "3       1   28             5.9                 4                       30   \n",
            "5       1   28             5.9                 4                       30   \n",
            "6       1   29             6.3                 6                       40   \n",
            "\n",
            "   Stress Level  Heart Rate  Daily Steps  Systolic_BP  Diastolic_BP  ...  \\\n",
            "0             6          77         4200          126            83  ...   \n",
            "1             8          75        10000          125            80  ...   \n",
            "3             8          85         3000          140            90  ...   \n",
            "5             8          85         3000          140            90  ...   \n",
            "6             7          82         3500          140            90  ...   \n",
            "\n",
            "   Occupation_Salesperson  Occupation_Scientist  Occupation_Software Engineer  \\\n",
            "0                   False                 False                          True   \n",
            "1                   False                 False                         False   \n",
            "3                   False                 False                         False   \n",
            "5                   False                 False                          True   \n",
            "6                   False                 False                         False   \n",
            "\n",
            "   Occupation_Teacher  BMI Category_Normal Weight  BMI Category_Obese  \\\n",
            "0               False                       False               False   \n",
            "1               False                       False               False   \n",
            "3               False                       False                True   \n",
            "5               False                       False                True   \n",
            "6                True                       False                True   \n",
            "\n",
            "   BMI Category_Overweight  Sleep Disorder_Sleep Apnea    Age_Group  \\\n",
            "0                     True                       False  Young Adult   \n",
            "1                    False                       False  Young Adult   \n",
            "3                    False                        True  Young Adult   \n",
            "5                    False                       False  Young Adult   \n",
            "6                    False                       False  Young Adult   \n",
            "\n",
            "   BP_Category  \n",
            "0     Elevated  \n",
            "1     Elevated  \n",
            "3     Elevated  \n",
            "5     Elevated  \n",
            "6     Elevated  \n",
            "\n",
            "[5 rows x 26 columns]\n"
          ]
        }
      ]
    },
    {
      "cell_type": "code",
      "source": [
        "df.to_csv(\"Sleep_health_cleaned.csv\", index=False)"
      ],
      "metadata": {
        "id": "E4_nhWaxcm8U"
      },
      "execution_count": 11,
      "outputs": []
    }
  ]
}